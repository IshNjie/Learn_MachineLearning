{
 "cells": [
  {
   "cell_type": "code",
   "execution_count": null,
   "metadata": {},
   "outputs": [],
   "source": [
    "import pandas as pd #Data Manipulation and preprocessing\n",
    "import numpy as np \n",
    "import seaborn as sb #DataViz\n",
    "import matplotlib.pyplot as plt #DataViz\n",
    "\n",
    "#Algos\n",
    "from sklearn.linear_model import LogisticRegression\n",
    "from sklearn.neural_network import MLPClassifier\n",
    "from sklearn.ensemble import RandomForestClassifier\n",
    "\n",
    "#Tools for modelling\n",
    "from sklearn.preprocessing import StandardScaler\n",
    "from sklearn.metrics import confusion_matrix, classification_report, accuracy_score\n",
    "from sklearn.model_selection import cross_val_score, train_test_split\n",
    "\n",
    "#Majic fucntion to show visualisations in the notebook\n",
    "% matplotlib inline"
   ]
  },
  {
   "cell_type": "code",
   "execution_count": null,
   "metadata": {
    "collapsed": true
   },
   "outputs": [],
   "source": [
    "df1 = pd.read_csv('winequality-red.csv', delimiter = ';') # Bringing in the data"
   ]
  },
  {
   "cell_type": "code",
   "execution_count": null,
   "metadata": {},
   "outputs": [],
   "source": [
    "#Creating the heatmap to show correlation between features\n",
    "dims = (11.7,8.27)\n",
    "fig,ax = plt.subplots(figsize=dims)\n",
    "CorMap = sb.heatmap(df1.corr(), annot = True,fmt= '.1f', ax=ax)\n",
    "plt.title('Correlation')"
   ]
  },
  {
   "cell_type": "markdown",
   "metadata": {},
   "source": [
    "# The aim here is to classify the quality of the wine"
   ]
  },
  {
   "cell_type": "code",
   "execution_count": null,
   "metadata": {},
   "outputs": [],
   "source": [
    "sb.barplot(x = 'quality', y='alcohol', data = df1)"
   ]
  },
  {
   "cell_type": "code",
   "execution_count": null,
   "metadata": {},
   "outputs": [],
   "source": [
    "no_class = pd.value_counts(df1['quality']).sort_index()\n",
    "print(no_class)\n",
    "plt.bar(no_class.index, no_class, align = 'center')\n",
    "plt.xticks(no_class.index)"
   ]
  },
  {
   "cell_type": "code",
   "execution_count": null,
   "metadata": {},
   "outputs": [],
   "source": [
    "# Turn the integer values into the strings so that they can be mapped to '0' - bad and '1' - good\n",
    "df1.quality = df1.quality.apply(str) \n",
    "df1.quality = df1.quality.map({'3':0, '4':0,'5':0,'6':1,'7':1,'8':1})\n",
    "df1.head()"
   ]
  },
  {
   "cell_type": "code",
   "execution_count": null,
   "metadata": {},
   "outputs": [],
   "source": [
    "#New classes and their number of instances\n",
    "no_class = pd.value_counts(df1['quality']).sort_index()\n",
    "print(no_class)\n",
    "plt.bar(no_class.index, no_class, align = 'center')\n",
    "plt.xticks(no_class.index)"
   ]
  },
  {
   "cell_type": "code",
   "execution_count": null,
   "metadata": {
    "collapsed": true,
    "scrolled": false
   },
   "outputs": [],
   "source": [
    "X = df1[['fixed acidity', 'volatile acidity', 'citric acid', 'residual sugar',\n",
    "       'chlorides', 'free sulfur dioxide', 'total sulfur dioxide', 'density',\n",
    "       'pH', 'sulphates', 'alcohol']]\n",
    "\n",
    "y = df1['quality']\n",
    "\n",
    "X_train, X_test, y_train, y_test = train_test_split(X, y, test_size = 0.2, random_state=1) #Train and test split\n",
    "\n",
    "scaler = StandardScaler(with_mean = False)\n",
    "scaler.fit(X_train)\n",
    "X_train = scaler.transform(X_train)\n",
    "X_test = scaler.transform(X_test)\n",
    "\n",
    "models = ['LogisticRegression', 'RandomForest','MLP']\n",
    "scores = []"
   ]
  },
  {
   "cell_type": "code",
   "execution_count": null,
   "metadata": {},
   "outputs": [],
   "source": [
    "clf = LogisticRegression()\n",
    "clf.fit(X_train, y_train)\n",
    "pred = clf.predict(X_test)\n",
    "print('Results for: Logistic Regression' + '\\n')\n",
    "print(confusion_matrix(y_test, pred))\n",
    "print(classification_report(y_test, pred))\n",
    "Accuracy = accuracy_score(y_test, pred)\n",
    "print(\"Accuracy is \"+ str(Accuracy)) \n",
    "scores.append(Accuracy)"
   ]
  },
  {
   "cell_type": "markdown",
   "metadata": {},
   "source": [
    "**Logistic Regression** is a classification model that is often used in binary classification problems. \n",
    "\n",
    "![title](logistic.png)"
   ]
  },
  {
   "cell_type": "code",
   "execution_count": null,
   "metadata": {},
   "outputs": [],
   "source": [
    "clf = RandomForestClassifier()\n",
    "clf.fit(X_train, y_train)\n",
    "pred = clf.predict(X_test)\n",
    "print('Results for: RandomForest' + '\\n')\n",
    "print(confusion_matrix(y_test, pred))\n",
    "print(classification_report(y_test, pred))\n",
    "Accuracy = accuracy_score(y_test, pred)\n",
    "print(\"Accuracy is \"+ str(Accuracy)) \n",
    "scores.append(Accuracy)"
   ]
  },
  {
   "cell_type": "markdown",
   "metadata": {},
   "source": [
    "**Random Forests** are known as ensemble learning methods that use multiple classifiers to achieve a higher predictive accuracy that using single algorithms separately.\n",
    "![title](randomforest.png)\n"
   ]
  },
  {
   "cell_type": "code",
   "execution_count": null,
   "metadata": {},
   "outputs": [],
   "source": [
    "dn = {'features':X.columns, 'score':clf.feature_importances_}\n",
    "df = pd.DataFrame.from_dict(data=dn).sort_values(by='score', ascending=False)\n",
    "plot = sb.barplot(y='score', x='features', data=df)\n",
    "plot.set(ylabel='Score', xlabel='Features', \n",
    "         title='Feature Importance of Random Forest Classifier')\n",
    "for item in plot.get_xticklabels():\n",
    "    item.set_rotation(90)"
   ]
  },
  {
   "cell_type": "code",
   "execution_count": null,
   "metadata": {},
   "outputs": [],
   "source": [
    "clf = MLPClassifier()\n",
    "clf.fit(X_train, y_train)\n",
    "pred = clf.predict(X_test)\n",
    "print('Results for: MLP' + '\\n')\n",
    "print(confusion_matrix(y_test, pred))\n",
    "print(classification_report(y_test, pred))\n",
    "Accuracy = accuracy_score(y_test, pred)\n",
    "print(\"Accuracy is \"+ str(Accuracy)) \n",
    "scores.append(Accuracy)"
   ]
  },
  {
   "cell_type": "markdown",
   "metadata": {},
   "source": [
    "**MLP (Multiple Layer Perceptron)** is a form of a neural network that consists of more than 3 layers. You will have an Input Layer, an output layer and a number of hidden layers.\n",
    "\n",
    "![title](nn2.png)"
   ]
  },
  {
   "cell_type": "code",
   "execution_count": null,
   "metadata": {},
   "outputs": [],
   "source": [
    "table = pd.DataFrame({'Accuracy':scores, 'Model':models})\n",
    "\n",
    "table = table[['Model','Accuracy']].sort_values('Accuracy',ascending=False)\n",
    "table.head()"
   ]
  }
 ],
 "metadata": {
  "kernelspec": {
   "display_name": "Python 3",
   "language": "python",
   "name": "python3"
  },
  "language_info": {
   "codemirror_mode": {
    "name": "ipython",
    "version": 3
   },
   "file_extension": ".py",
   "mimetype": "text/x-python",
   "name": "python",
   "nbconvert_exporter": "python",
   "pygments_lexer": "ipython3",
   "version": "3.6.3"
  }
 },
 "nbformat": 4,
 "nbformat_minor": 2
}
